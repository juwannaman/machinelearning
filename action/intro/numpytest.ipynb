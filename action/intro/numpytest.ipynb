{
 "cells": [
  {
   "cell_type": "markdown",
   "metadata": {},
   "source": [
    "## Numpy函数库基础"
   ]
  },
  {
   "cell_type": "code",
   "execution_count": 1,
   "metadata": {},
   "outputs": [],
   "source": [
    "from numpy import *"
   ]
  },
  {
   "cell_type": "code",
   "execution_count": 2,
   "metadata": {},
   "outputs": [
    {
     "data": {
      "text/plain": [
       "array([[ 0.26541546,  0.8512158 ,  0.68426286,  0.88453909],\n",
       "       [ 0.18145073,  0.43362737,  0.13405039,  0.82624095],\n",
       "       [ 0.58039811,  0.07059442,  0.87060385,  0.75069581],\n",
       "       [ 0.81119219,  0.69267289,  0.34307287,  0.15088346]])"
      ]
     },
     "execution_count": 2,
     "output_type": "execute_result",
     "metadata": {}
    }
   ],
   "source": [
    "random.rand(4,4)"
   ]
  },
  {
   "cell_type": "code",
   "execution_count": 4,
   "metadata": {},
   "outputs": [
    {
     "data": {
      "text/plain": [
       "matrix([[ 0.69670636,  0.56038654,  0.67925546,  0.86039226],\n",
       "        [ 0.82424191,  0.53307588,  0.99902943,  0.31232612],\n",
       "        [ 0.22169991,  0.70609153,  0.84373068,  0.38973858],\n",
       "        [ 0.13790353,  0.54344807,  0.29756483,  0.17534146]])"
      ]
     },
     "execution_count": 4,
     "output_type": "execute_result",
     "metadata": {}
    }
   ],
   "source": [
    "# 矩阵\n",
    "randMat = mat(random.rand(4,4))\n",
    "randMat"
   ]
  },
  {
   "cell_type": "code",
   "execution_count": 5,
   "metadata": {},
   "outputs": [
    {
     "data": {
      "text/plain": [
       "matrix([[ 0.27638758,  1.37409714, -2.35088804,  1.42158975],\n",
       "        [-0.25727216, -0.11083908, -0.81677907,  3.27534195],\n",
       "        [-0.57957286,  0.33419778,  2.14284364, -2.51433718],\n",
       "        [ 1.56357625, -1.30432968,  0.74390768, -1.29942   ]])"
      ]
     },
     "execution_count": 5,
     "output_type": "execute_result",
     "metadata": {}
    }
   ],
   "source": [
    "# 矩阵求逆\n",
    "invRandMat = randMat.I\n",
    "invRandMat"
   ]
  },
  {
   "cell_type": "code",
   "execution_count": 6,
   "metadata": {},
   "outputs": [
    {
     "data": {
      "text/plain": [
       "matrix([[  1.00000000e+00,   2.22044605e-16,   0.00000000e+00,\n",
       "          -4.44089210e-16],\n",
       "        [ -2.77555756e-17,   1.00000000e+00,   0.00000000e+00,\n",
       "           0.00000000e+00],\n",
       "        [  0.00000000e+00,   0.00000000e+00,   1.00000000e+00,\n",
       "           0.00000000e+00],\n",
       "        [ -2.77555756e-17,   0.00000000e+00,   2.22044605e-16,\n",
       "           1.00000000e+00]])"
      ]
     },
     "execution_count": 6,
     "output_type": "execute_result",
     "metadata": {}
    }
   ],
   "source": [
    "randMat * invRandMat"
   ]
  },
  {
   "cell_type": "code",
   "execution_count": 7,
   "metadata": {},
   "outputs": [
    {
     "data": {
      "text/plain": [
       "matrix([[  0.00000000e+00,   2.22044605e-16,   0.00000000e+00,\n",
       "          -4.44089210e-16],\n",
       "        [ -2.77555756e-17,   0.00000000e+00,   0.00000000e+00,\n",
       "           0.00000000e+00],\n",
       "        [  0.00000000e+00,   0.00000000e+00,   0.00000000e+00,\n",
       "           0.00000000e+00],\n",
       "        [ -2.77555756e-17,   0.00000000e+00,   2.22044605e-16,\n",
       "          -4.44089210e-16]])"
      ]
     },
     "execution_count": 7,
     "output_type": "execute_result",
     "metadata": {}
    }
   ],
   "source": [
    "myEye = randMat * invRandMat\n",
    "myEye - eye(4)"
   ]
  },
  {
   "cell_type": "code",
   "execution_count": null,
   "metadata": {},
   "outputs": [],
   "source": [
    ""
   ]
  }
 ],
 "metadata": {
  "kernelspec": {
   "display_name": "Python 2",
   "language": "python",
   "name": "python2"
  },
  "language_info": {
   "codemirror_mode": {
    "name": "ipython",
    "version": 2.0
   },
   "file_extension": ".py",
   "mimetype": "text/x-python",
   "name": "python",
   "nbconvert_exporter": "python",
   "pygments_lexer": "ipython2",
   "version": "2.7.11"
  }
 },
 "nbformat": 4,
 "nbformat_minor": 0
}